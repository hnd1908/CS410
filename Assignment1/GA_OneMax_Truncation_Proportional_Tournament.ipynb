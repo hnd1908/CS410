{
  "cells": [
    {
      "cell_type": "code",
      "execution_count": 1,
      "metadata": {
        "collapsed": true,
        "id": "r__fmusqNNuu"
      },
      "outputs": [],
      "source": [
        "import warnings\n",
        "warnings.filterwarnings('ignore')\n",
        "%matplotlib inline\n",
        "import matplotlib.pyplot as plt\n",
        "import numpy as np"
      ]
    },
    {
      "cell_type": "code",
      "execution_count": 2,
      "metadata": {
        "id": "cDw0uXxPNNuv"
      },
      "outputs": [],
      "source": [
        "def initialize_population( num_individuals, num_variables ):\n",
        "    \"\"\"\n",
        "    Khởi tạo quần thể gồm num_individuals cá thể. Mỗi cá thể có num_parameters biến.\n",
        "\n",
        "    Arguments:\n",
        "    num_individuals -- Số lượng cá thể\n",
        "    num_variables -- Số lượng biến\n",
        "\n",
        "    Returns:\n",
        "    pop -- Ma trận (num_individuals, num_variables ) chứa quần thể mới được khởi tạo ngẫu nhiên.\n",
        "    \"\"\"\n",
        "\n",
        "    pop = np.random.randint(2, size=(num_individuals, num_variables))\n",
        "\n",
        "\n",
        "    return pop"
      ]
    },
    {
      "cell_type": "code",
      "execution_count": 3,
      "metadata": {
        "colab": {
          "base_uri": "https://localhost:8080/"
        },
        "id": "B2mFFli0fUCH",
        "outputId": "f53ac587-214f-4990-9014-7659c65b97e3"
      },
      "outputs": [
        {
          "name": "stdout",
          "output_type": "stream",
          "text": [
            "[[0 1 0 0]\n",
            " [0 1 0 0]\n",
            " [0 1 0 0]\n",
            " [0 0 1 0]\n",
            " [1 1 1 0]\n",
            " [1 0 1 1]\n",
            " [1 1 1 1]\n",
            " [1 1 0 0]]\n"
          ]
        }
      ],
      "source": [
        "np.random.seed(42)\n",
        "pop = initialize_population(8,4)\n",
        "print(pop)"
      ]
    },
    {
      "cell_type": "code",
      "execution_count": 4,
      "metadata": {
        "id": "sexPh34MNNuw"
      },
      "outputs": [],
      "source": [
        "def onemax( ind ):\n",
        "    \"\"\"\n",
        "    Hàm đánh giá OneMax: Đếm số bit 1 trong chuỗi nhị phân (cá thể ind).\n",
        "\n",
        "    Arguments:\n",
        "    ind -- Cá thể cần được đánh giá.\n",
        "\n",
        "    Returns:\n",
        "    value -- Giá trị của cá thể ind.\n",
        "    \"\"\"\n",
        "\n",
        "    value = np.sum(ind)\n",
        "\n",
        "    return value"
      ]
    },
    {
      "cell_type": "code",
      "execution_count": 5,
      "metadata": {
        "colab": {
          "base_uri": "https://localhost:8080/"
        },
        "id": "m-wgJivufTUG",
        "outputId": "7786ced4-0f31-4a7b-fdf3-9bfb352af385"
      },
      "outputs": [
        {
          "data": {
            "text/plain": [
              "3"
            ]
          },
          "execution_count": 5,
          "metadata": {},
          "output_type": "execute_result"
        }
      ],
      "source": [
        "onemax(pop[5,:]).item()"
      ]
    },
    {
      "cell_type": "code",
      "execution_count": 6,
      "metadata": {
        "id": "RWOJbcSCn3mz"
      },
      "outputs": [],
      "source": [
        "def truncation_selection(pop, pop_fitness, selection_size):\n",
        "    selected_indices = np.argsort(pop_fitness)[-selection_size:]\n",
        "    return selected_indices"
      ]
    },
    {
      "cell_type": "code",
      "execution_count": 7,
      "metadata": {
        "id": "KYtI5HO2NNuy"
      },
      "outputs": [],
      "source": [
        "def crossover( pop ):\n",
        "    \"\"\"\n",
        "    Hàm biến đổi tạo ra các cá thể con.\n",
        "\n",
        "    Arguments:\n",
        "    pop -- Quàn thể hiện tại.\n",
        "\n",
        "    Returns:\n",
        "    offspring -- Quần thể chứa các cá thể con được sinh ra.\n",
        "    \"\"\"\n",
        "\n",
        "    num_individuals = len(pop)\n",
        "    num_parameters = len(pop[0])\n",
        "    indices = np.arange(num_individuals)\n",
        "    # Đảo ngẫu nhiên thứ tự các cá thể trong quần thể\n",
        "    np.random.shuffle(indices)\n",
        "    offspring = []\n",
        "\n",
        "    for i in range(0, num_individuals, 2):\n",
        "        idx1 = indices[i]\n",
        "        idx2 = indices[i+1]\n",
        "        offspring1 = list(pop[idx1])\n",
        "        offspring2 = list(pop[idx2])\n",
        "\n",
        "        # Cài đặt phép lai đồng nhất uniform crossover.\n",
        "        for idx in range(0, num_parameters):\n",
        "            r = np.random.rand()\n",
        "            if r < 0.5:\n",
        "                temp = offspring2[idx]\n",
        "                offspring2[idx] = offspring1[idx]\n",
        "                offspring1[idx] = temp\n",
        "\n",
        "        offspring.append(offspring1)\n",
        "        offspring.append(offspring2)\n",
        "\n",
        "    offspring = np.array(offspring)\n",
        "    return offspring"
      ]
    },
    {
      "cell_type": "code",
      "execution_count": 8,
      "metadata": {
        "id": "YPG8Ayu_yzwC"
      },
      "outputs": [],
      "source": [
        "def mutation(pop, mutation_prob):\n",
        "    num_individuals = len(pop)\n",
        "    num_parameters = len(pop[0])\n",
        "    for i in range(0, num_individuals):\n",
        "        for j in range(0, num_parameters):\n",
        "            r = np.random.rand()\n",
        "            if r < mutation_prob:\n",
        "                if pop[i][j] == 0:\n",
        "                    pop[i][j] = 1\n",
        "                else:\n",
        "                    pop[i][j] = 0\n",
        "\n",
        "    return pop"
      ]
    },
    {
      "cell_type": "code",
      "execution_count": 9,
      "metadata": {
        "id": "s-tug82wvrIV"
      },
      "outputs": [],
      "source": [
        "def genetic_algorithm(objective, num_individuals, num_parameters, max_evaluations, verbose=False):\n",
        "    pop = initialize_population(num_individuals, num_parameters)\n",
        "    pop_fitness = np.array([objective(ind) for ind in pop])\n",
        "    num_evaluations = num_individuals\n",
        "    best_fitness = []\n",
        "    if verbose:\n",
        "        print(\"#Gen 0:\")\n",
        "        print(pop_fitness)\n",
        "\n",
        "    selection_size = num_individuals // 2\n",
        "\n",
        "    while num_evaluations < max_evaluations:\n",
        "        best_fitness.append([num_evaluations, np.max(pop_fitness)])\n",
        "        selected_indices = truncation_selection( pop, pop_fitness, selection_size )\n",
        "        selection_set = pop[selected_indices]\n",
        "        selection_fitness = pop_fitness[selected_indices]\n",
        "\n",
        "        offspring = crossover(selection_set)\n",
        "        offspring = mutation(offspring, 0.1)\n",
        "        offspring_fitness = np.array([objective(ind) for ind in offspring])\n",
        "        num_evaluations += len(offspring)\n",
        "\n",
        "        pop = np.vstack([selection_set, offspring])\n",
        "        pop_fitness = np.concatenate((selection_fitness, offspring_fitness))\n",
        "\n",
        "        if verbose:\n",
        "            print(f'#Gen {i+1}:')\n",
        "            print(pop_fitness)\n",
        "\n",
        "    best_fitness.append([num_evaluations, np.max(pop_fitness)])\n",
        "    if verbose:\n",
        "        print('#Final result:')  \n",
        "        print(pop)\n",
        "        print(pop_fitness)\n",
        "\n",
        "    return (pop, pop_fitness, best_fitness)\n"
      ]
    },
    {
      "cell_type": "code",
      "execution_count": 10,
      "metadata": {
        "id": "_M6RxNZxxw8u"
      },
      "outputs": [],
      "source": [
        "np.random.seed(42)\n",
        "num_parameters = 100\n",
        "num_individuals = 64\n",
        "max_evaluations = 100000\n",
        "pop, pop_fitness, best_fitness = genetic_algorithm(onemax, num_individuals, num_parameters, max_evaluations)"
      ]
    },
    {
      "cell_type": "code",
      "execution_count": 16,
      "metadata": {
        "colab": {
          "base_uri": "https://localhost:8080/",
          "height": 472
        },
        "id": "zQ5kzIiWHri3",
        "outputId": "43fb2564-14fb-46a9-9827-d27c9a86931e"
      },
      "outputs": [
        {
          "name": "stdout",
          "output_type": "stream",
          "text": [
            "[[    64     60]\n",
            " [    96     64]\n",
            " [   128     64]\n",
            " ...\n",
            " [ 99936     99]\n",
            " [ 99968     99]\n",
            " [100000     99]]\n"
          ]
        },
        {
          "data": {
            "image/png": "[encoded data removed]",
            "text/plain": [
              "<Figure size 640x480 with 1 Axes>"
            ]
          },
          "metadata": {},
          "output_type": "display_data"
        }
      ],
      "source": [
        "best_fitness = np.array(best_fitness)\n",
        "print(best_fitness)\n",
        "plt.plot(best_fitness[:,0], best_fitness[:,1], label='truncation', color='b')\n",
        "plt.xlabel(\"Number of evaluations\")\n",
        "plt.ylabel(\"Fitness\")\n",
        "plt.ylim(num_parameters/2, num_parameters+2)\n",
        "plt.title(f\"One-Max on {num_parameters} Dimensions\")\n",
        "plt.legend();"
      ]
    },
    {
      "cell_type": "code",
      "execution_count": 15,
      "metadata": {},
      "outputs": [
        {
          "name": "stdout",
          "output_type": "stream",
          "text": [
            "[    64     96    128 ...  99936  99968 100000]\n"
          ]
        }
      ],
      "source": [
        "print(best_fitness[:,0])"
      ]
    },
    {
      "cell_type": "code",
      "execution_count": null,
      "metadata": {
        "id": "2SyNCQWHH89Q"
      },
      "outputs": [],
      "source": [
        "n_trials = 10\n",
        "num_parameters = 100\n",
        "max_evaluations = 100000\n",
        "num_individuals = 8 # population size\n",
        "\n",
        "fits_truncation = []\n",
        "evals = []\n",
        "for i in range(n_trials):\n",
        "    pop, pop_fitness, best_fitness = genetic_algorithm(onemax, num_individuals, num_parameters, max_evaluations)\n",
        "    best_fitness = np.array(best_fitness)\n",
        "    if i == 0:\n",
        "        evals = best_fitness[:,0]\n",
        "    fits_truncation.append(best_fitness[:,1])"
      ]
    },
    {
      "cell_type": "code",
      "execution_count": null,
      "metadata": {
        "id": "AzUj3rOKXN8S"
      },
      "outputs": [],
      "source": [
        "fits_truncation = np.array(fits_truncation)"
      ]
    },
    {
      "cell_type": "code",
      "execution_count": null,
      "metadata": {
        "colab": {
          "base_uri": "https://localhost:8080/"
        },
        "id": "vFgHE5AxXX_E",
        "outputId": "3c3efcad-dfdd-4fc7-f6fb-bce79ca11663"
      },
      "outputs": [
        {
          "data": {
            "text/plain": [
              "array([[ 56,  60,  60, ...,  99,  99,  99],\n",
              "       [ 62,  62,  63, ...,  99,  99,  99],\n",
              "       [ 62,  62,  62, ...,  98,  98,  98],\n",
              "       ...,\n",
              "       [ 60,  60,  60, ..., 100, 100, 100],\n",
              "       [ 55,  56,  58, ...,  99,  99,  99],\n",
              "       [ 61,  62,  62, ...,  99,  99,  99]])"
            ]
          },
          "execution_count": 46,
          "metadata": {},
          "output_type": "execute_result"
        }
      ],
      "source": [
        "fits_truncation"
      ]
    },
    {
      "cell_type": "code",
      "execution_count": null,
      "metadata": {
        "colab": {
          "base_uri": "https://localhost:8080/"
        },
        "id": "zzEUZpSGXyXj",
        "outputId": "e66d84fd-1f4d-4c3d-eef1-bbc61c20ebd1"
      },
      "outputs": [
        {
          "data": {
            "text/plain": [
              "array([58.9, 59.9, 60.4, ..., 99. , 99. , 99. ])"
            ]
          },
          "execution_count": 47,
          "metadata": {},
          "output_type": "execute_result"
        }
      ],
      "source": [
        "avg = np.mean(fits_truncation, axis=0)\n",
        "err = np.std(fits_truncation, axis=0)\n",
        "avg"
      ]
    },
    {
      "cell_type": "code",
      "execution_count": null,
      "metadata": {
        "colab": {
          "base_uri": "https://localhost:8080/",
          "height": 472
        },
        "id": "6smvrTq3LQz_",
        "outputId": "ca198fc0-f564-489e-f5cd-c5bc8362f56f"
      },
      "outputs": [
        {
          "data": {
            "image/png": "[encoded data removed]",
            "text/plain": [
              "<Figure size 640x480 with 1 Axes>"
            ]
          },
          "metadata": {},
          "output_type": "display_data"
        }
      ],
      "source": [
        "plt.plot(evals, avg, label=\"Truncation\", color='b')\n",
        "plt.fill_between(evals, avg+err, avg-err, facecolor='b', alpha=0.1)\n",
        "\n",
        "plt.xlabel(\"Evaluations\")\n",
        "plt.ylabel(\"Fitness\")\n",
        "plt.xlim(0, max_evaluations+num_individuals)\n",
        "plt.title(f\"One-Max on {num_parameters} Dimensions\")\n",
        "plt.legend();"
      ]
    },
    {
      "cell_type": "code",
      "execution_count": null,
      "metadata": {
        "id": "MwCWN8pyQB9S"
      },
      "outputs": [],
      "source": []
    }
  ],
  "metadata": {
    "anaconda-cloud": {},
    "colab": {
      "provenance": []
    },
    "kernelspec": {
      "display_name": "Python 3",
      "language": "python",
      "name": "python3"
    },
    "language_info": {
      "codemirror_mode": {
        "name": "ipython",
        "version": 3
      },
      "file_extension": ".py",
      "mimetype": "text/x-python",
      "name": "python",
      "nbconvert_exporter": "python",
      "pygments_lexer": "ipython3",
      "version": "3.10.0"
    }
  },
  "nbformat": 4,
  "nbformat_minor": 0
}
